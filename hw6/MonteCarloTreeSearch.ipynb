{
 "cells": [
  {
   "cell_type": "markdown",
   "id": "1b346c83-54b7-4ba6-bfa9-62528892e221",
   "metadata": {},
   "source": [
    "# Monte Carlo Tree Search"
   ]
  },
  {
   "cell_type": "code",
   "execution_count": 1,
   "id": "ab0a645a-f744-4a46-b89b-fd9f148dcbb2",
   "metadata": {
    "tags": []
   },
   "outputs": [],
   "source": [
    "import numpy as np\n",
    "from random import uniform\n",
    "from tqdm import tqdm\n",
    "from gc import collect"
   ]
  },
  {
   "cell_type": "code",
   "execution_count": 2,
   "id": "284c9af4-c201-423a-ae82-8639c0e2fe75",
   "metadata": {
    "tags": []
   },
   "outputs": [],
   "source": [
    "class Node:\n",
    "    def __init__(self, depth=20, parent=None, name='', B=10, tau=None):\n",
    "        self.parent = parent\n",
    "        self.name = name\n",
    "        self.B = B\n",
    "        self.tau = depth/5 if tau is None else tau\n",
    "        if depth > 0:\n",
    "            self.left = Node(depth=depth-1, parent=self, name=name+\"L\", B=B, tau=self.tau)\n",
    "            self.right = Node(depth=depth-1, parent=self, name=name+\"R\", B=B, tau=self.tau)\n",
    "            self.leaf = False\n",
    "        else:\n",
    "            self.left, self.right = None, None\n",
    "            self.leaf = True\n",
    "    \n",
    "    def __repr__(self):\n",
    "        return (\"Leaf n\" if self.leaf else \"N\") + f\"ode {self.name}\" if self.name != '' else \"Root node\"\n",
    "    \n",
    "    def select_target(self):\n",
    "        if self.leaf:\n",
    "            return self.name\n",
    "        # Selecting a target by randomly and recursively choosing between children\n",
    "        self.target = self.left.select_target() if uniform(0, 1) < 0.5 else self.right.select_target()\n",
    "        return self.target\n",
    "    \n",
    "    # Assign values to every leaf from this root based on the distance from the target\n",
    "    # However, assigning all values in a large tree is inefficient; better to assign value when sampled\n",
    "    def assign_values(self, target=None):\n",
    "        if target is None:\n",
    "            if not hasattr(self, 'target'):\n",
    "                raise AttributeError(\"This node cannot implicitly assign values. A target must be specified\")\n",
    "            target = self.target\n",
    "        if self.leaf:\n",
    "            self.value = self.B*np.exp(-self.distance(target)/self.tau) + np.random.randn()\n",
    "        else:\n",
    "            self.left.assign_values(target=target)\n",
    "            self.right.assign_values(target=target)\n",
    "    \n",
    "    def distance(self, target):\n",
    "        return (~(np.asarray(list(self.name)) == np.asarray(list(target)))).sum()\n",
    "    \n",
    "    # Useful for checking the values of each leaf node but should only be called for small trees\n",
    "    def list_leaves(self):\n",
    "        if self.leaf:\n",
    "            print(f\"{self}: {self.value:.04f}\")\n",
    "            return\n",
    "        self.left.list_leaves()\n",
    "        self.right.list_leaves()"
   ]
  },
  {
   "cell_type": "code",
   "execution_count": 3,
   "id": "690d97e6-1473-4f47-9e49-df832ba5e2ab",
   "metadata": {
    "tags": []
   },
   "outputs": [],
   "source": [
    "class MonteCarloTreeSearch:\n",
    "    def __init__(self, tree, c=1, leaf_values=False):\n",
    "        self.tree = tree\n",
    "        self.current_root = tree\n",
    "        self.initialize_node(tree)\n",
    "        self.c = c\n",
    "        self.n = 0\n",
    "        # If the leaves have values pre-assigned\n",
    "        self.leaf_values = leaf_values\n",
    "    \n",
    "    def search(self, n=50):\n",
    "        while not self.current_root.leaf:\n",
    "            self.iteration()\n",
    "            if self.current_root.n >= n:\n",
    "                self.current_root = self.better_child(self.current_root)\n",
    "    \n",
    "    def iteration(self):\n",
    "        node = self.current_root\n",
    "        while True:\n",
    "            node = self.better_child(node)\n",
    "            # Stop if a leaf or unvisited node is reached. In the latter case use rollout\n",
    "            if node.leaf or node.n == 0:\n",
    "                # Only one rollout per \"snowcap\" leaf node in this implementation\n",
    "                value = node.value if node.leaf else self.rollout(node)\n",
    "                self.backprop(node, value)\n",
    "                self.n += 1\n",
    "                break\n",
    "    \n",
    "    def better_child(self, node):\n",
    "        for child in [node.left, node.right]:\n",
    "            # Initialize child if it has not been been previously visited\n",
    "            if not hasattr(child, 'value'):\n",
    "                self.initialize_node(child)\n",
    "            self.calculate_value(child)\n",
    "        return max([node.left, node.right], key=lambda x: x.value)\n",
    "    \n",
    "    def initialize_node(self, node):\n",
    "        if node.leaf:\n",
    "            node.assign_values(self.tree.target)\n",
    "        else:\n",
    "            node.total = 0\n",
    "            node.n = 0\n",
    "    \n",
    "    def calculate_value(self, node):\n",
    "        # If the node is a leaf node, its value is known\n",
    "        if node.leaf: return\n",
    "        # Because of division by 0 in the UCB, the initial value is set to infinity\n",
    "        node.value = np.infty if node.n == 0 else node.total / node.n + self.c * np.sqrt(np.log(self.n) / node.n)\n",
    "        \n",
    "    def rollout(self, node):\n",
    "        if node.leaf:\n",
    "            if not self.leaf_values and not hasattr(node, 'value'):\n",
    "                node.assign_values(self.tree.target)\n",
    "            return node.value\n",
    "        # Choose left or child with equal probability for the rollout policy\n",
    "        return self.rollout(node.left if uniform(0, 1) < 0.5 else node.right)\n",
    "    \n",
    "    def backprop(self, node, value):\n",
    "        # Leaf node values do not need to be estimated\n",
    "        if not node.leaf:\n",
    "            node.total += value\n",
    "            node.n += 1\n",
    "        while node.parent is not None:\n",
    "            node = node.parent\n",
    "            node.total += value\n",
    "            node.n += 1\n",
    "    \n",
    "    def target(self):\n",
    "        node = self.tree\n",
    "        while not node.leaf:\n",
    "            # If the search has not converged, the output will be somewhat random\n",
    "            node = self.better_child(node) \n",
    "        return node.name\n",
    "    \n",
    "    def distance(self):\n",
    "        return (~(np.asarray(list(self.tree.target)) == np.asarray(list(self.target())))).sum()"
   ]
  },
  {
   "cell_type": "code",
   "execution_count": 4,
   "id": "e3a7ac9b-4c48-4a54-bd18-1889d9782280",
   "metadata": {},
   "outputs": [
    {
     "data": {
      "text/plain": [
       "'LRLLLLRLLLRRLRRLLRRR'"
      ]
     },
     "execution_count": 4,
     "metadata": {},
     "output_type": "execute_result"
    }
   ],
   "source": [
    "tree = Node(depth=20)\n",
    "tree.select_target()\n",
    "# tree.assign_values()\n",
    "tree.target"
   ]
  },
  {
   "cell_type": "code",
   "execution_count": 5,
   "id": "b8fb7b99-7d9f-4f2a-a369-e693e94049b0",
   "metadata": {
    "tags": []
   },
   "outputs": [
    {
     "data": {
      "text/plain": [
       "'LRLLLLRLLLRLLRRLRLRR'"
      ]
     },
     "execution_count": 5,
     "metadata": {},
     "output_type": "execute_result"
    }
   ],
   "source": [
    "mcts = MonteCarloTreeSearch(tree)\n",
    "mcts.search(n=50)\n",
    "mcts.target()"
   ]
  },
  {
   "cell_type": "code",
   "execution_count": 6,
   "id": "be9f3d96-b68c-416d-b668-aa78418a0930",
   "metadata": {
    "tags": []
   },
   "outputs": [
    {
     "data": {
      "text/plain": [
       "3"
      ]
     },
     "execution_count": 6,
     "metadata": {},
     "output_type": "execute_result"
    }
   ],
   "source": [
    "mcts.distance()"
   ]
  },
  {
   "cell_type": "code",
   "execution_count": 7,
   "id": "e7469ec0-ed77-4f77-88ec-bcef20019c6b",
   "metadata": {
    "tags": []
   },
   "outputs": [
    {
     "name": "stderr",
     "output_type": "stream",
     "text": [
      "100%|████████████████████████████████████████████████████████████████████████████████| 100/100 [11:16<00:00,  6.76s/it]\n",
      "100%|████████████████████████████████████████████████████████████████████████████████| 100/100 [11:13<00:00,  6.74s/it]\n",
      "100%|████████████████████████████████████████████████████████████████████████████████| 100/100 [11:03<00:00,  6.64s/it]\n",
      "100%|████████████████████████████████████████████████████████████████████████████████| 100/100 [11:17<00:00,  6.77s/it]\n",
      "100%|████████████████████████████████████████████████████████████████████████████████| 100/100 [11:18<00:00,  6.78s/it]\n",
      "100%|████████████████████████████████████████████████████████████████████████████████| 100/100 [11:19<00:00,  6.80s/it]\n"
     ]
    }
   ],
   "source": [
    "cs = np.linspace(0.1, 3, 6)\n",
    "trees = {c: list() for c in cs}\n",
    "for c in cs:\n",
    "    for _ in tqdm(range(100)):\n",
    "        tree = Node(depth=20)\n",
    "        tree.select_target()\n",
    "        mcts = MonteCarloTreeSearch(tree, c=c)\n",
    "        mcts.search(n=50)\n",
    "        trees[c].append({'total': mcts.tree.total, 'n': mcts.tree.n, 'real': mcts.tree.target,\n",
    "                         'target': mcts.target(), 'distance': mcts.distance()})\n",
    "        del(mcts); del(tree)\n",
    "        collect()"
   ]
  },
  {
   "cell_type": "raw",
   "id": "f160956c-580d-4b30-b93a-4807fbf18c79",
   "metadata": {
    "tags": []
   },
   "source": [
    "t = {float(c): {i: {k: float(v) if type(v) != str else v for k, v in run.items()} for i, run in enumerate(l)} for c, l in trees.copy().items()}\n",
    "\n",
    "import json\n",
    "\n",
    "with open(\"trees.json\", 'w') as f:\n",
    "    f.write(json.dumps(t))"
   ]
  }
 ],
 "metadata": {
  "kernelspec": {
   "display_name": "Python 3 (ipykernel)",
   "language": "python",
   "name": "python3"
  },
  "language_info": {
   "codemirror_mode": {
    "name": "ipython",
    "version": 3
   },
   "file_extension": ".py",
   "mimetype": "text/x-python",
   "name": "python",
   "nbconvert_exporter": "python",
   "pygments_lexer": "ipython3",
   "version": "3.10.9"
  }
 },
 "nbformat": 4,
 "nbformat_minor": 5
}
