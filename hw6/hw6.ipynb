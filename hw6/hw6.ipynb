{
 "cells": [
  {
   "cell_type": "markdown",
   "id": "10fe3957-3dc1-4f45-afe1-487ca45c4238",
   "metadata": {},
   "source": [
    "# Monte Carlo Tree Search"
   ]
  },
  {
   "cell_type": "code",
   "execution_count": 25,
   "id": "2b103f95-f2a9-4d29-b3fe-2101cfb675f3",
   "metadata": {
    "tags": []
   },
   "outputs": [],
   "source": [
    "import numpy as np\n",
    "from random import uniform"
   ]
  },
  {
   "cell_type": "code",
   "execution_count": 512,
   "id": "73c69fcf-408d-4b85-aeaf-8d0614b6230d",
   "metadata": {
    "tags": []
   },
   "outputs": [],
   "source": [
    "class Node:\n",
    "    def __init__(self, depth=20, parent=None, name='', B=10, tau=None):\n",
    "        self.parent = parent\n",
    "        self.name = name\n",
    "        self.B = B\n",
    "        self.tau = depth/5 if tau is None else tau\n",
    "        if depth > 0:\n",
    "            self.left = Node(depth=depth-1, parent=self, name=name+\"L\", B=B, tau=self.tau)\n",
    "            self.right = Node(depth=depth-1, parent=self, name=name+\"R\", B=B, tau=self.tau)\n",
    "            self.leaf = False\n",
    "        else:\n",
    "            self.left, self.right = None, None\n",
    "            self.leaf = True\n",
    "    \n",
    "    def __repr__(self):\n",
    "        return (\"Leaf n\" if self.leaf else \"N\") + f\"ode {self.name}\" if self.name != '' else \"Root node\"\n",
    "    \n",
    "    def select_target(self):\n",
    "        if self.leaf:\n",
    "            return self.name\n",
    "        # Selecting a target by randomly and recursively choosing between children\n",
    "        self.target = self.left.select_target() if uniform(0, 1) < 0.5 else self.right.select_target()\n",
    "        return self.target\n",
    "    \n",
    "    # Assign values to every leaf node based on the distance from the target\n",
    "    def assign_values(self, target=None):\n",
    "        if target is None:\n",
    "            target = self.target\n",
    "        if self.leaf:\n",
    "            self.value = self.B*np.exp(-self.distance(target)/self.tau) + np.random.randn()\n",
    "        else:\n",
    "            self.left.assign_values(target=target)\n",
    "            self.right.assign_values(target=target)\n",
    "    \n",
    "    def distance(self, target):\n",
    "        return (~(np.asarray(list(self.name)) == np.asarray(list(target)))).sum()\n",
    "    \n",
    "    # Useful for checking the values of each leaf node but should only be called for small trees\n",
    "    def list_leaves(self):\n",
    "        if self.leaf:\n",
    "            print(f\"{self}: {self.value:.04f}\")\n",
    "            return\n",
    "        self.left.list_leaves()\n",
    "        self.right.list_leaves()"
   ]
  },
  {
   "cell_type": "code",
   "execution_count": 517,
   "id": "b72ceb36-648b-47a0-9053-e8be644f0d52",
   "metadata": {
    "tags": []
   },
   "outputs": [],
   "source": [
    "class MonteCarloTreeSearch:\n",
    "    def __init__(self, tree, c=1):\n",
    "        self.tree = tree\n",
    "        self.current_root = tree\n",
    "        self.initialize_node(tree)\n",
    "        self.c = c\n",
    "        self.n = 0\n",
    "    \n",
    "    def search(self, n=50):\n",
    "        while not self.current_root.leaf:\n",
    "            self.iteration()\n",
    "            if self.current_root.n >= n:\n",
    "                self.current_root = self.better_child(self.current_root)\n",
    "    \n",
    "    def iteration(self):\n",
    "        node = self.current_root\n",
    "        while True:\n",
    "            node = self.better_child(node)\n",
    "            # Stop if a leaf or unvisited node is reached. In the latter case use rollout\n",
    "            if node.leaf or node.n == 0:\n",
    "                # Only one rollout per \"snowcap\" leaf node in this implementation\n",
    "                value = node.value if node.leaf else self.rollout(node)\n",
    "                self.backprop(node, value)\n",
    "                self.n += 1\n",
    "                break\n",
    "    \n",
    "    def better_child(self, node):\n",
    "        for child in [node.left, node.right]:\n",
    "            # Initialize child if it has not been been previously visited\n",
    "            if not hasattr(child, 'value'):\n",
    "                self.initialize_node(child)\n",
    "            self.calculate_value(child)\n",
    "        return max([node.left, node.right], key=lambda x: x.value)\n",
    "    \n",
    "    def initialize_node(self, node):\n",
    "        node.total = 0\n",
    "        node.n = 0\n",
    "    \n",
    "    def calculate_value(self, node):\n",
    "        # If the node is a leaf node, its value is known\n",
    "        if node.leaf: return\n",
    "        # Because of division by 0 in the UCB, the initial value is set to infinity\n",
    "        node.value = np.infty if node.n == 0 else node.total / node.n + self.c * np.sqrt(np.log(self.n) / node.n)\n",
    "        \n",
    "    def rollout(self, node):\n",
    "        if node.leaf:\n",
    "            return node.value\n",
    "        # Choose left or child with equal probability for the rollout policy\n",
    "        return self.rollout(node.left if uniform(0, 1) < 0.5 else node.right)\n",
    "    \n",
    "    def backprop(self, node, value):\n",
    "        # Leaf node values do not need to be estimated\n",
    "        if not node.leaf:\n",
    "            node.total += value\n",
    "            node.n += 1\n",
    "        while node.parent is not None:\n",
    "            node = node.parent\n",
    "            node.total += value\n",
    "            node.n += 1\n",
    "    \n",
    "    def target(self):\n",
    "        node = self.tree\n",
    "        while not node.leaf:\n",
    "            # If the search has not converged, the output will be somewhat random\n",
    "            node = self.better_child(node) \n",
    "        return node.name"
   ]
  },
  {
   "cell_type": "code",
   "execution_count": 530,
   "id": "e839f8ea-ecf3-4e58-8b0b-aa1a00ffa77f",
   "metadata": {},
   "outputs": [
    {
     "data": {
      "text/plain": [
       "'LRLRLRLLRLLLLLLRLLRL'"
      ]
     },
     "execution_count": 530,
     "metadata": {},
     "output_type": "execute_result"
    }
   ],
   "source": [
    "tree = Node(depth=20)\n",
    "tree.select_target()\n",
    "tree.assign_values()\n",
    "tree.target"
   ]
  },
  {
   "cell_type": "code",
   "execution_count": 531,
   "id": "08b4bb78-f843-4f46-8040-774a228617f0",
   "metadata": {
    "tags": []
   },
   "outputs": [
    {
     "data": {
      "text/plain": [
       "'RLLLLRLLRRLLLLRRLLRR'"
      ]
     },
     "execution_count": 531,
     "metadata": {},
     "output_type": "execute_result"
    }
   ],
   "source": [
    "mcts = MonteCarloTreeSearch(tree)\n",
    "mcts.search(n=50)\n",
    "mcts.target()"
   ]
  },
  {
   "cell_type": "code",
   "execution_count": 532,
   "id": "f01360e5-9bf0-4200-b273-b6d7ce37a0e7",
   "metadata": {
    "tags": []
   },
   "outputs": [
    {
     "data": {
      "text/plain": [
       "6"
      ]
     },
     "execution_count": 532,
     "metadata": {},
     "output_type": "execute_result"
    }
   ],
   "source": [
    "(~(np.asarray(list(tree.target)) == np.asarray(list(mcts.target())))).sum()"
   ]
  }
 ],
 "metadata": {
  "kernelspec": {
   "display_name": "Python 3 (ipykernel)",
   "language": "python",
   "name": "python3"
  },
  "language_info": {
   "codemirror_mode": {
    "name": "ipython",
    "version": 3
   },
   "file_extension": ".py",
   "mimetype": "text/x-python",
   "name": "python",
   "nbconvert_exporter": "python",
   "pygments_lexer": "ipython3",
   "version": "3.11.3"
  }
 },
 "nbformat": 4,
 "nbformat_minor": 5
}
