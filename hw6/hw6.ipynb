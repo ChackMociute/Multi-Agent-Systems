{
 "cells": [
  {
   "cell_type": "markdown",
   "id": "10fe3957-3dc1-4f45-afe1-487ca45c4238",
   "metadata": {},
   "source": [
    "# Monte Carlo Tree Search"
   ]
  },
  {
   "cell_type": "code",
   "execution_count": 1,
   "id": "2b103f95-f2a9-4d29-b3fe-2101cfb675f3",
   "metadata": {
    "tags": []
   },
   "outputs": [],
   "source": [
    "import numpy as np\n",
    "from random import uniform"
   ]
  },
  {
   "cell_type": "code",
   "execution_count": 2,
   "id": "73c69fcf-408d-4b85-aeaf-8d0614b6230d",
   "metadata": {
    "tags": []
   },
   "outputs": [],
   "source": [
    "class Node:\n",
    "    def __init__(self, depth=20, parent=None, name='', B=10, tau=None):\n",
    "        self.parent = parent\n",
    "        self.name = name\n",
    "        self.B = B\n",
    "        self.tau = depth/5 if tau is None else tau\n",
    "        if depth > 0:\n",
    "            self.left = Node(depth=depth-1, parent=self, name=name+\"L\", B=B, tau=self.tau)\n",
    "            self.right = Node(depth=depth-1, parent=self, name=name+\"R\", B=B, tau=self.tau)\n",
    "            self.leaf = False\n",
    "        else:\n",
    "            self.left, self.right = None, None\n",
    "            self.leaf = True\n",
    "    \n",
    "    def __repr__(self):\n",
    "        return (\"Leaf n\" if self.leaf else \"N\") + f\"ode {self.name}\" if self.name != '' else \"Root node\"\n",
    "    \n",
    "    def select_target(self):\n",
    "        if self.leaf:\n",
    "            return self.name\n",
    "        # Selecting a target by randomly and recursively choosing between children\n",
    "        self.target = self.left.select_target() if uniform(0, 1) < 0.5 else self.right.select_target()\n",
    "        return self.target\n",
    "    \n",
    "    # Assign values to every leaf from this root based on the distance from the target\n",
    "    # However, assigning all values in a large tree is inefficient; better to assign value when sampled\n",
    "    def assign_values(self, target=None):\n",
    "        if target is None:\n",
    "            if not hasattr(self, 'target'):\n",
    "                raise AttributeError(\"This node cannot implicitly assign values. A target must be specified\")\n",
    "            target = self.target\n",
    "        if self.leaf:\n",
    "            self.value = self.B*np.exp(-self.distance(target)/self.tau) + np.random.randn()\n",
    "        else:\n",
    "            self.left.assign_values(target=target)\n",
    "            self.right.assign_values(target=target)\n",
    "    \n",
    "    def distance(self, target):\n",
    "        return (~(np.asarray(list(self.name)) == np.asarray(list(target)))).sum()\n",
    "    \n",
    "    # Useful for checking the values of each leaf node but should only be called for small trees\n",
    "    def list_leaves(self):\n",
    "        if self.leaf:\n",
    "            print(f\"{self}: {self.value:.04f}\")\n",
    "            return\n",
    "        self.left.list_leaves()\n",
    "        self.right.list_leaves()"
   ]
  },
  {
   "cell_type": "code",
   "execution_count": 3,
   "id": "b72ceb36-648b-47a0-9053-e8be644f0d52",
   "metadata": {
    "tags": []
   },
   "outputs": [],
   "source": [
    "class MonteCarloTreeSearch:\n",
    "    def __init__(self, tree, c=1, leaf_values=False):\n",
    "        self.tree = tree\n",
    "        self.current_root = tree\n",
    "        self.initialize_node(tree)\n",
    "        self.c = c\n",
    "        self.n = 0\n",
    "        # If the leaves have values pre-assigned\n",
    "        self.leaf_values = leaf_values\n",
    "    \n",
    "    def search(self, n=50):\n",
    "        while not self.current_root.leaf:\n",
    "            self.iteration()\n",
    "            if self.current_root.n >= n:\n",
    "                self.current_root = self.better_child(self.current_root)\n",
    "    \n",
    "    def iteration(self):\n",
    "        node = self.current_root\n",
    "        while True:\n",
    "            node = self.better_child(node)\n",
    "            # Stop if a leaf or unvisited node is reached. In the latter case use rollout\n",
    "            if node.leaf or node.n == 0:\n",
    "                # Only one rollout per \"snowcap\" leaf node in this implementation\n",
    "                value = node.value if node.leaf else self.rollout(node)\n",
    "                self.backprop(node, value)\n",
    "                self.n += 1\n",
    "                break\n",
    "    \n",
    "    def better_child(self, node):\n",
    "        for child in [node.left, node.right]:\n",
    "            # Initialize child if it has not been been previously visited\n",
    "            if not hasattr(child, 'value'):\n",
    "                self.initialize_node(child)\n",
    "            self.calculate_value(child)\n",
    "        return max([node.left, node.right], key=lambda x: x.value)\n",
    "    \n",
    "    def initialize_node(self, node):\n",
    "        if node.leaf:\n",
    "            node.assign_values(self.tree.target)\n",
    "        else:\n",
    "            node.total = 0\n",
    "            node.n = 0\n",
    "    \n",
    "    def calculate_value(self, node):\n",
    "        # If the node is a leaf node, its value is known\n",
    "        if node.leaf: return\n",
    "        # Because of division by 0 in the UCB, the initial value is set to infinity\n",
    "        node.value = np.infty if node.n == 0 else node.total / node.n + self.c * np.sqrt(np.log(self.n) / node.n)\n",
    "        \n",
    "    def rollout(self, node):\n",
    "        if node.leaf:\n",
    "            if not self.leaf_values and not hasattr(node, 'value'):\n",
    "                node.assign_values(self.tree.target)\n",
    "            return node.value\n",
    "        # Choose left or child with equal probability for the rollout policy\n",
    "        return self.rollout(node.left if uniform(0, 1) < 0.5 else node.right)\n",
    "    \n",
    "    def backprop(self, node, value):\n",
    "        # Leaf node values do not need to be estimated\n",
    "        if not node.leaf:\n",
    "            node.total += value\n",
    "            node.n += 1\n",
    "        while node.parent is not None:\n",
    "            node = node.parent\n",
    "            node.total += value\n",
    "            node.n += 1\n",
    "    \n",
    "    def target(self):\n",
    "        node = self.tree\n",
    "        while not node.leaf:\n",
    "            # If the search has not converged, the output will be somewhat random\n",
    "            node = self.better_child(node) \n",
    "        return node.name"
   ]
  },
  {
   "cell_type": "code",
   "execution_count": 4,
   "id": "e839f8ea-ecf3-4e58-8b0b-aa1a00ffa77f",
   "metadata": {},
   "outputs": [
    {
     "data": {
      "text/plain": [
       "'LLLRRLRRLLRRRLRRLLRL'"
      ]
     },
     "execution_count": 4,
     "metadata": {},
     "output_type": "execute_result"
    }
   ],
   "source": [
    "tree = Node(depth=20)\n",
    "tree.select_target()\n",
    "# tree.assign_values()\n",
    "tree.target"
   ]
  },
  {
   "cell_type": "code",
   "execution_count": 5,
   "id": "08b4bb78-f843-4f46-8040-774a228617f0",
   "metadata": {
    "tags": []
   },
   "outputs": [
    {
     "data": {
      "text/plain": [
       "'LRLRLLRRLLRLRLRRLRLL'"
      ]
     },
     "execution_count": 5,
     "metadata": {},
     "output_type": "execute_result"
    }
   ],
   "source": [
    "mcts = MonteCarloTreeSearch(tree)\n",
    "mcts.search(n=50)\n",
    "mcts.target()"
   ]
  },
  {
   "cell_type": "code",
   "execution_count": 6,
   "id": "f01360e5-9bf0-4200-b273-b6d7ce37a0e7",
   "metadata": {
    "tags": []
   },
   "outputs": [
    {
     "data": {
      "text/plain": [
       "5"
      ]
     },
     "execution_count": 6,
     "metadata": {},
     "output_type": "execute_result"
    }
   ],
   "source": [
    "(~(np.asarray(list(tree.target)) == np.asarray(list(mcts.target())))).sum()"
   ]
  },
  {
   "cell_type": "markdown",
   "id": "09023f96-7b38-4251-b827-07eecf5b6a16",
   "metadata": {},
   "source": [
    "# Reinforcement Learning"
   ]
  },
  {
   "cell_type": "markdown",
   "id": "66bfb72d-82df-452c-932f-72e160b2c451",
   "metadata": {},
   "source": [
    "## Policy Gradient"
   ]
  },
  {
   "cell_type": "code",
   "execution_count": 7,
   "id": "959ee0e3-7009-4034-8080-f16033b7fccd",
   "metadata": {
    "tags": []
   },
   "outputs": [],
   "source": [
    "import pandas as pd\n",
    "import matplotlib.pyplot as plt\n",
    "from random import choice"
   ]
  },
  {
   "cell_type": "code",
   "execution_count": 8,
   "id": "324947e8-1620-46ff-84c0-bebd50f8fb31",
   "metadata": {
    "tags": []
   },
   "outputs": [],
   "source": [
    "class Environment:\n",
    "    def __init__(self, L=10, left_reward=0, right_reward=20):\n",
    "        self.states = np.arange(-L-1, L+2)\n",
    "        self.terminal = [min(self.states), max(self.states)]\n",
    "        self.rewards = [left_reward, right_reward]\n",
    "    \n",
    "    def reset(self):\n",
    "        self.state = choice(self.states[1:-1])\n",
    "        return self.state\n",
    "    \n",
    "    def step(self, a):\n",
    "        # Check if environment is initialized\n",
    "        if not hasattr(self, 'state'):\n",
    "            raise RuntimeError(\"Environment.reset must be called before calling Environment.step\")\n",
    "        # Check if the action is valid\n",
    "        if a not in ['L', 'R']:\n",
    "            raise ValueError(\"The action must be either 'L' or 'R'\")\n",
    "        \n",
    "        state = self.state + (-1 if a == 'L' else 1)\n",
    "        terminal = state in self.terminal\n",
    "        reward = -1 if not terminal else (self.rewards[0] if state == min(self.states) else self.rewards[1])\n",
    "        self.state = state\n",
    "        # Delete state to avoid undefined behavior for subsequent step method calls\n",
    "        if terminal: delattr(self, 'state')\n",
    "        return state, reward, terminal"
   ]
  },
  {
   "cell_type": "code",
   "execution_count": 9,
   "id": "de597f5e-24df-480d-a546-668b77217e9e",
   "metadata": {
    "tags": []
   },
   "outputs": [],
   "source": [
    "class Policy:\n",
    "    def __init__(self, theta=0, beta=0.5):\n",
    "        self.ACTIONS = ['L', 'R']\n",
    "        self.theta = theta\n",
    "        self.beta = beta\n",
    "    \n",
    "    def sample_action(self, state):\n",
    "        lp, _ = self.get_probs(state)\n",
    "        # With probability lp select action 0 ('L')\n",
    "        return self.ACTIONS[int(lp < uniform(0, 1))]\n",
    "    \n",
    "    def get_probs(self, state):\n",
    "        p = (1+np.exp(-self.beta*(state-self.theta)))**-1\n",
    "        # For completeness, returns probs for both actions\n",
    "        return 1-p, p"
   ]
  },
  {
   "cell_type": "code",
   "execution_count": 10,
   "id": "70307734-4757-43f8-9459-cd118b0655c8",
   "metadata": {
    "tags": []
   },
   "outputs": [],
   "source": [
    "def simulate_episode(env, policy, return_full_episode=False):\n",
    "    states, actions, rewards = list(), list(), list()\n",
    "    s = env.reset()\n",
    "    done = False\n",
    "    while not done:\n",
    "        states.append(s)\n",
    "        a = policy.sample_action(s)\n",
    "        s, r, done = env.step(a)\n",
    "        actions.append(a)\n",
    "        rewards.append(r)\n",
    "    return (states, actions, rewards) if return_full_episode else sum(rewards)"
   ]
  },
  {
   "cell_type": "markdown",
   "id": "c8d03754-1fb3-4cd9-8cdf-6e2a8fc1f2ea",
   "metadata": {},
   "source": [
    "#### Question 1"
   ]
  },
  {
   "cell_type": "code",
   "execution_count": 40,
   "id": "6781b24d-444e-4557-8ee3-19d19d04dc95",
   "metadata": {
    "tags": []
   },
   "outputs": [],
   "source": [
    "env = Environment(L=20)\n",
    "thetas = np.arange(-20, 21)\n",
    "rewards = {theta: list() for theta in thetas}\n",
    "n = 10000\n",
    "\n",
    "for theta in thetas:\n",
    "    policy = Policy(theta=theta)\n",
    "    for _ in range(n):\n",
    "        rewards[theta].append(simulate_episode(env, policy))\n",
    "rewards = pd.DataFrame(rewards)"
   ]
  },
  {
   "cell_type": "code",
   "execution_count": 58,
   "id": "ef412357-012b-4fe1-9aea-66f1ef2fe3d5",
   "metadata": {
    "tags": []
   },
   "outputs": [
    {
     "data": {
      "image/png": "[encoded data removed]",
      "text/plain": [
       "<Figure size 1000x500 with 1 Axes>"
      ]
     },
     "metadata": {},
     "output_type": "display_data"
    }
   ],
   "source": [
    "plt.figure(figsize=(10,5))\n",
    "plt.plot(rewards.columns, rewards.mean())\n",
    "plt.fill_between(rewards.columns, rewards.mean() + rewards.std()/3, rewards.mean() - rewards.std()/3, alpha=0.7)\n",
    "plt.vlines(rewards.mean().idxmax(), (rewards.mean() - rewards.std()/3).min(), (rewards.mean() + rewards.std()/3).max(), color='dimgray', linestyles='--')\n",
    "plt.xlabel(\"θ\", fontsize=14)\n",
    "plt.xticks(list(range(-20, 21, 4)) + [rewards.mean().idxmax()])\n",
    "plt.ylabel(\"Estimated J(θ)\", fontsize=14)\n",
    "plt.title(\"Monte Carlo estimations of J as a function of θ\", fontsize=18)\n",
    "plt.show()"
   ]
  },
  {
   "cell_type": "markdown",
   "id": "f9da2baf-9a42-4b2b-bd79-a44b66adb1a2",
   "metadata": {},
   "source": [
    "#### Question 2"
   ]
  },
  {
   "cell_type": "code",
   "execution_count": 13,
   "id": "f22f5847-8170-4d5d-b32e-4334d2399fa5",
   "metadata": {
    "tags": []
   },
   "outputs": [
    {
     "data": {
      "text/plain": [
       "-0.3241"
      ]
     },
     "execution_count": 13,
     "metadata": {},
     "output_type": "execute_result"
    }
   ],
   "source": [
    "theta = 0\n",
    "h = 1e-1\n",
    "p1, p2 = Policy(theta=theta + h), Policy(theta=theta)\n",
    "policy_diff = lambda: simulate_episode(env, p1) - simulate_episode(env, p2)\n",
    "\n",
    "n = 100000\n",
    "sum([policy_diff() / h for _ in range(n)]) / n"
   ]
  },
  {
   "cell_type": "markdown",
   "id": "413419e6-b549-4749-9b07-06049f5b0645",
   "metadata": {},
   "source": [
    "#### Question 3"
   ]
  },
  {
   "cell_type": "code",
   "execution_count": 157,
   "id": "2373d3ad-87c7-4c1b-9c64-afa6be654b33",
   "metadata": {
    "tags": []
   },
   "outputs": [],
   "source": [
    "def compute_grad(policy, episode):    \n",
    "    grad, R = 0, 0\n",
    "    for s, a, r in reversed(list(zip(*episode))):\n",
    "        R += r\n",
    "        grad += R * policy.beta * (policy.get_probs(s)[1] - (1 if a == 'R' else 0))\n",
    "    return grad"
   ]
  },
  {
   "cell_type": "code",
   "execution_count": 158,
   "id": "ad8c68f5-5478-4cae-b1e7-2ea19e2b420b",
   "metadata": {
    "tags": []
   },
   "outputs": [
    {
     "name": "stdout",
     "output_type": "stream",
     "text": [
      "-10.205888790435116\n"
     ]
    }
   ],
   "source": [
    "# Gradient ascent playground to test if the algorithm works as expected\n",
    "L = 20\n",
    "left_reward = 0\n",
    "right_reward = 20\n",
    "theta0 = 0\n",
    "lr = 1e-2\n",
    "n_episodes = 50000\n",
    "\n",
    "env = Environment(L=L, left_reward=left_reward, right_reward=right_reward)\n",
    "policy = Policy(theta=theta0)\n",
    "for _ in range(n_episodes):\n",
    "    grad = compute_grad(policy, simulate_episode(env, policy, return_full_episode=True))\n",
    "    policy.theta += lr * grad\n",
    "print(policy.theta)"
   ]
  },
  {
   "cell_type": "markdown",
   "id": "42cc3fe5-931e-4c1c-8504-3fdcb84d49ba",
   "metadata": {},
   "source": [
    "# Advantage Actor-Critic"
   ]
  },
  {
   "cell_type": "code",
   "execution_count": 164,
   "id": "7f10005d-acc5-43fd-8d91-2218028247b2",
   "metadata": {
    "tags": []
   },
   "outputs": [],
   "source": [
    "from collections import defaultdict\n",
    "\n",
    "def MC_prediction(V, counts, states, rewards):\n",
    "    R = 0\n",
    "    for i, (s, r) in enumerate(zip(reversed(states), reversed(rewards))):\n",
    "        R += r\n",
    "        # Only consider first visits\n",
    "        if s not in states[:-i-1]:\n",
    "            counts[s] += 1\n",
    "            V[s] += (R-V[s]) / counts[s]\n",
    "\n",
    "env = Environment(L=20)\n",
    "policy = Policy()\n",
    "V = defaultdict(float)\n",
    "counts = defaultdict(float)\n",
    "n_episodes = 100\n",
    "\n",
    "for _ in range(n_episodes):\n",
    "    states, _, rewards = simulate_episode(env, policy, return_full_episode=True)\n",
    "    MC_prediction(V, counts, states, rewards)"
   ]
  },
  {
   "cell_type": "code",
   "execution_count": 165,
   "id": "4a46676a-b556-459d-aab1-641da3d79bfa",
   "metadata": {
    "tags": []
   },
   "outputs": [
    {
     "data": {
      "image/png": "[encoded data removed]",
      "text/plain": [
       "<Figure size 640x480 with 1 Axes>"
      ]
     },
     "metadata": {},
     "output_type": "display_data"
    }
   ],
   "source": [
    "pd.Series(V).sort_index().plot()\n",
    "plt.xticks(env.states[1:-1:2])\n",
    "plt.show()"
   ]
  },
  {
   "cell_type": "code",
   "execution_count": 166,
   "id": "b2a94ede-b59b-41fe-b36d-2efdee9a2cd8",
   "metadata": {
    "tags": []
   },
   "outputs": [],
   "source": [
    "def compute_grad(policy, episode, V):    \n",
    "    grad, R = 0, 0\n",
    "    for s, a, r, ns in zip(*episode, episode[0][1:] + [np.infty]):\n",
    "        # print(s,ns, (V[ns] - V[s] + r))\n",
    "        grad += (V[ns] - V[s] + r) * policy.beta * (policy.get_probs(s)[1] - (1 if a == 'R' else 0))\n",
    "    return grad"
   ]
  },
  {
   "cell_type": "code",
   "execution_count": 167,
   "id": "759c1738-b1f9-4f74-9b66-191f748ed3a9",
   "metadata": {
    "tags": []
   },
   "outputs": [
    {
     "name": "stdout",
     "output_type": "stream",
     "text": [
      "-9.4135449876523\n"
     ]
    }
   ],
   "source": [
    "lr = 0.5\n",
    "n_episodes = 5000\n",
    "\n",
    "for _ in range(n_episodes):\n",
    "    episode = simulate_episode(env, policy, return_full_episode=True)\n",
    "    grad = compute_grad(policy, episode, V)\n",
    "    MC_prediction(V, counts, episode[0], episode[2])\n",
    "    policy.theta += lr * grad\n",
    "print(policy.theta)"
   ]
  },
  {
   "cell_type": "code",
   "execution_count": 168,
   "id": "d2d57b23-58a5-460a-a952-c37af3ff2648",
   "metadata": {
    "tags": []
   },
   "outputs": [
    {
     "data": {
      "image/png": "[encoded data removed]",
      "text/plain": [
       "<Figure size 640x480 with 1 Axes>"
      ]
     },
     "metadata": {},
     "output_type": "display_data"
    }
   ],
   "source": [
    "pd.Series(V).sort_index().plot()\n",
    "plt.show()"
   ]
  }
 ],
 "metadata": {
  "kernelspec": {
   "display_name": "Python 3 (ipykernel)",
   "language": "python",
   "name": "python3"
  },
  "language_info": {
   "codemirror_mode": {
    "name": "ipython",
    "version": 3
   },
   "file_extension": ".py",
   "mimetype": "text/x-python",
   "name": "python",
   "nbconvert_exporter": "python",
   "pygments_lexer": "ipython3",
   "version": "3.11.3"
  }
 },
 "nbformat": 4,
 "nbformat_minor": 5
}
